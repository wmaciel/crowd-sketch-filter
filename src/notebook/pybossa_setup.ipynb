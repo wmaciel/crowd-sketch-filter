{
 "cells": [
  {
   "cell_type": "code",
   "execution_count": null,
   "metadata": {
    "collapsed": false
   },
   "outputs": [],
   "source": [
    "import sys\n",
    "import re\n",
    "from reprowd.crowdcontext import CrowdContext\n",
    "from reprowd.presenter.base import BasePresenter\n",
    "sys.path.append('..')"
   ]
  },
  {
   "cell_type": "markdown",
   "metadata": {},
   "source": [
    "# Defining constants"
   ]
  },
  {
   "cell_type": "code",
   "execution_count": null,
   "metadata": {
    "collapsed": true
   },
   "outputs": [],
   "source": [
    "input_image_path = '../../img/lena.bmp'\n",
    "n_x = 10\n",
    "n_y = 10\n",
    "input_splits_folder = '../../out_img/'\n",
    "n_assigns = 3\n",
    "output_stitched_folder = '../../stitched/'\n",
    "output_blended_image_path = '../../blended.jpg'\n",
    "ftp_divs_folder = 'img_divs'\n",
    "\n",
    "# Project Attributes\n",
    "project_long_name = 'CSF_long'\n",
    "project_short_name = 'CSF_short'\n",
    "project_description = 'Crowdsourced Sketch Filter'\n",
    "presenter_question = 'Replicate the original image as closely as you can.'"
   ]
  },
  {
   "cell_type": "markdown",
   "metadata": {},
   "source": [
    "# Splitting and uploading the input image\n",
    "\n",
    "The input image is splitted into multiple regions and saved in a local folder by the splitter script"
   ]
  },
  {
   "cell_type": "code",
   "execution_count": null,
   "metadata": {
    "collapsed": false
   },
   "outputs": [],
   "source": [
    "from splitter import split_image\n",
    "img_split_paths = split_image(input_image_path, n_x, n_y, input_splits_folder)"
   ]
  },
  {
   "cell_type": "markdown",
   "metadata": {},
   "source": [
    "The uploader script uploads all regions from the local folder into an FTP server"
   ]
  },
  {
   "cell_type": "code",
   "execution_count": null,
   "metadata": {
    "collapsed": false
   },
   "outputs": [],
   "source": [
    "from uploader import upload_images\n",
    "img_split_urls = upload_images(img_split_paths, ftp_divs_folder)"
   ]
  },
  {
   "cell_type": "markdown",
   "metadata": {},
   "source": [
    "# Querying the crowd\n",
    "\n",
    "The context is loaded from a previously saved state, or a new one is created"
   ]
  },
  {
   "cell_type": "code",
   "execution_count": null,
   "metadata": {
    "collapsed": true
   },
   "outputs": [],
   "source": [
    "cc = CrowdContext(local_db=\"sketch.db\")"
   ]
  },
  {
   "cell_type": "markdown",
   "metadata": {},
   "source": [
    "The urls of the uploaded images are sent into the context database"
   ]
  },
  {
   "cell_type": "code",
   "execution_count": null,
   "metadata": {
    "collapsed": true
   },
   "outputs": [],
   "source": [
    "crowd_data = cc.CrowdData(img_split_urls, 'image_regions')"
   ]
  },
  {
   "cell_type": "markdown",
   "metadata": {},
   "source": [
    "Our custom made presenter template is set as the current one"
   ]
  },
  {
   "cell_type": "code",
   "execution_count": null,
   "metadata": {
    "collapsed": false
   },
   "outputs": [],
   "source": [
    "my_presenter = BasePresenter()\n",
    "my_presenter.set_name(project_long_name)\n",
    "my_presenter.set_short_name(project_short_name)\n",
    "my_presenter.set_description(project_description)\n",
    "my_presenter.set_question(presenter_question)\n",
    "\n",
    "# Set the name of the project in the template\n",
    "html_text = None\n",
    "with open('presenter.html', 'rw') as presenter_file:\n",
    "    html_text = presenter_file.read()\n",
    "    html_text = re.sub(\"pybossa\\.userProgress\\(\\'([\\S]+)\\'\\)\",\n",
    "                       \"pybossa.userProgress('\" + project_short_name + \"')\",\n",
    "                       html_text)\n",
    "    html_text = re.sub(\"pybossa\\.run\\(\\'([\\S]+)\\'\\)\",\n",
    "                       \"pybossa.run('\" + project_short_name + \"')\",\n",
    "                       html_text)\n",
    "\n",
    "# Set the template as the presenter\n",
    "my_presenter.set_template(html_text)\n",
    "crowd_data.set_presenter(my_presenter, lambda obj: {'url_m': obj})"
   ]
  },
  {
   "cell_type": "markdown",
   "metadata": {},
   "source": [
    "The tasks are published with a predefined number of assignments per task"
   ]
  },
  {
   "cell_type": "code",
   "execution_count": null,
   "metadata": {
    "collapsed": false
   },
   "outputs": [],
   "source": [
    "r = crowd_data.publish_task(n_assignments=n_assigns)"
   ]
  },
  {
   "cell_type": "markdown",
   "metadata": {},
   "source": [
    "# Gathering results\n",
    "\n",
    "The resulting images are stored in a big dictionary with more information than we are going to use"
   ]
  },
  {
   "cell_type": "code",
   "execution_count": null,
   "metadata": {
    "collapsed": false
   },
   "outputs": [],
   "source": [
    "crowd_data = crowd_data.get_result()"
   ]
  },
  {
   "cell_type": "markdown",
   "metadata": {},
   "source": [
    "We traverse *crowd_data* gathering only the information that will be useful in an organized manner\n",
    "\n",
    "The images are stored in a base64 string, so during the traversal we are also decode those strings back into jpeg images.\n",
    "\n",
    "The result is *gathered_results* array, which is an array of dicts containing the file name and one image per assignment for that filename."
   ]
  },
  {
   "cell_type": "code",
   "execution_count": null,
   "metadata": {
    "collapsed": false
   },
   "outputs": [],
   "source": [
    "import base64\n",
    "from PIL import Image\n",
    "from io import BytesIO\n",
    "\n",
    "def gather_images():\n",
    "    results = []\n",
    "    for i in crowd_data.data['id']:\n",
    "        result_obj = {}\n",
    "        m = re.search('([0-9]+_[0-9]+_[0-9]+_[0-9]+).[a-zA-Z]+', crowd_data.data['object'][i])\n",
    "        result_obj['file'] = m.group(1)\n",
    "        result_obj['img'] = []\n",
    "        for a in crowd_data.data['result'][i]['assignments']:\n",
    "            im = Image.open(BytesIO(base64.b64decode(a['worker_response'][23:])))\n",
    "            result_obj['img'].append(im)\n",
    "        results.append(result_obj)\n",
    "    return results\n",
    "\n",
    "gathered_results = gather_images()\n",
    "            "
   ]
  },
  {
   "cell_type": "markdown",
   "metadata": {},
   "source": [
    "The stitcher script stitches the images back together and saves them in a local folder"
   ]
  },
  {
   "cell_type": "code",
   "execution_count": null,
   "metadata": {
    "collapsed": false
   },
   "outputs": [],
   "source": [
    "from stitcher import stitch_images_from_object\n",
    "stitch_images_from_object(input_image_path, gathered_results, output_stitched_folder)"
   ]
  },
  {
   "cell_type": "markdown",
   "metadata": {},
   "source": [
    "The diferrent versions of the original image are blended, in order to create an average of all stitched images."
   ]
  },
  {
   "cell_type": "code",
   "execution_count": null,
   "metadata": {
    "collapsed": false
   },
   "outputs": [],
   "source": [
    "from blender import blend_images_from_folder\n",
    "blend_images_from_folder(output_stitched_folder, output_blended_image_path)"
   ]
  },
  {
   "cell_type": "code",
   "execution_count": null,
   "metadata": {
    "collapsed": false
   },
   "outputs": [],
   "source": []
  },
  {
   "cell_type": "code",
   "execution_count": null,
   "metadata": {
    "collapsed": false
   },
   "outputs": [],
   "source": []
  },
  {
   "cell_type": "code",
   "execution_count": null,
   "metadata": {
    "collapsed": true
   },
   "outputs": [],
   "source": []
  }
 ],
 "metadata": {
  "kernelspec": {
   "display_name": "Python 2",
   "language": "python",
   "name": "python2"
  },
  "language_info": {
   "codemirror_mode": {
    "name": "ipython",
    "version": 2
   },
   "file_extension": ".py",
   "mimetype": "text/x-python",
   "name": "python",
   "nbconvert_exporter": "python",
   "pygments_lexer": "ipython2",
   "version": "2.7.11"
  }
 },
 "nbformat": 4,
 "nbformat_minor": 0
}
