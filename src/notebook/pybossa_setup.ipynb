{
 "cells": [
  {
   "cell_type": "code",
   "execution_count": 1,
   "metadata": {
    "collapsed": false
   },
   "outputs": [],
   "source": [
    "import sys\n",
    "import re\n",
    "from reprowd.crowdcontext import CrowdContext\n",
    "from reprowd.presenter.base import BasePresenter\n",
    "sys.path.append('..')"
   ]
  },
  {
   "cell_type": "markdown",
   "metadata": {},
   "source": [
    "# Defining constants"
   ]
  },
  {
   "cell_type": "code",
   "execution_count": 2,
   "metadata": {
    "collapsed": true
   },
   "outputs": [],
   "source": [
    "input_image_path = '../../img/lena.bmp'\n",
    "n_x = 10\n",
    "n_y = 10\n",
    "input_splits_folder = '../../out_img/'\n",
    "n_assigns = 5\n",
    "output_stitched_folder = '../../stitched/'\n",
    "output_blended_image_path = '../../blended.jpg'\n",
    "output_blended_folder = '../../blended/'\n",
    "ftp_pub_folder = 'pub_html'\n",
    "ftp_divs_folder = 'img_divs'\n",
    "\n",
    "# Project Attributes\n",
    "project_long_name = 'Crowd Sketch Filter'\n",
    "project_short_name = 'CSF_project'\n",
    "project_description = 'Please answer some of these taks!'\n",
    "presenter_question = 'Replicate the original image as closely as you can.'"
   ]
  },
  {
   "cell_type": "markdown",
   "metadata": {},
   "source": [
    "# Splitting and uploading the input image\n",
    "\n",
    "The input image is splitted into multiple regions and saved in a local folder by the splitter script"
   ]
  },
  {
   "cell_type": "code",
   "execution_count": null,
   "metadata": {
    "collapsed": false
   },
   "outputs": [],
   "source": [
    "from splitter import split_image\n",
    "img_split_paths = split_image(input_image_path, n_x, n_y, input_splits_folder)"
   ]
  },
  {
   "cell_type": "markdown",
   "metadata": {},
   "source": [
    "The uploader script uploads all regions from the local folder into an FTP server"
   ]
  },
  {
   "cell_type": "code",
   "execution_count": null,
   "metadata": {
    "collapsed": false
   },
   "outputs": [],
   "source": [
    "from uploader import upload_images\n",
    "img_split_urls = upload_images(img_split_paths, ftp_pub_folder)"
   ]
  },
  {
   "cell_type": "markdown",
   "metadata": {},
   "source": [
    "# Querying the crowd\n",
    "\n",
    "The context is loaded from a previously saved state, or a new one is created"
   ]
  },
  {
   "cell_type": "code",
   "execution_count": null,
   "metadata": {
    "collapsed": true
   },
   "outputs": [],
   "source": [
    "cc = CrowdContext(local_db=\"sketch.db\")"
   ]
  },
  {
   "cell_type": "markdown",
   "metadata": {},
   "source": [
    "The urls of the uploaded images are sent into the context database"
   ]
  },
  {
   "cell_type": "code",
   "execution_count": null,
   "metadata": {
    "collapsed": false
   },
   "outputs": [],
   "source": [
    "crowd_data = cc.CrowdData(img_split_urls, 'image_regions')"
   ]
  },
  {
   "cell_type": "markdown",
   "metadata": {},
   "source": [
    "Our custom made presenter template is set as the current one"
   ]
  },
  {
   "cell_type": "code",
   "execution_count": null,
   "metadata": {
    "collapsed": false
   },
   "outputs": [],
   "source": [
    "my_presenter = BasePresenter()\n",
    "my_presenter.set_name(project_long_name)\n",
    "my_presenter.set_short_name(project_short_name)\n",
    "my_presenter.set_description(project_description)\n",
    "my_presenter.set_question(presenter_question)\n",
    "\n",
    "# Set the name of the project in the template\n",
    "html_text = None\n",
    "with open('presenter.html', 'rw') as presenter_file:\n",
    "    html_text = presenter_file.read()\n",
    "    html_text = re.sub(\"pybossa\\.userProgress\\(\\'([\\S]+)\\'\\)\",\n",
    "                       \"pybossa.userProgress('\" + project_short_name + \"')\",\n",
    "                       html_text)\n",
    "    html_text = re.sub(\"pybossa\\.run\\(\\'([\\S]+)\\'\\)\",\n",
    "                       \"pybossa.run('\" + project_short_name + \"')\",\n",
    "                       html_text)\n",
    "\n",
    "# Set the template as the presenter\n",
    "my_presenter.set_template(html_text)\n",
    "crowd_data.set_presenter(my_presenter, lambda obj: {'url_m': obj})"
   ]
  },
  {
   "cell_type": "markdown",
   "metadata": {},
   "source": [
    "The tasks are published with a predefined number of assignments per task"
   ]
  },
  {
   "cell_type": "code",
   "execution_count": null,
   "metadata": {
    "collapsed": false
   },
   "outputs": [],
   "source": [
    "r = crowd_data.publish_task(n_assignments=n_assigns)"
   ]
  },
  {
   "cell_type": "markdown",
   "metadata": {},
   "source": [
    "# Gathering results\n",
    "\n",
    "The resulting images are stored in a big dictionary with more information than we are going to use"
   ]
  },
  {
   "cell_type": "code",
   "execution_count": null,
   "metadata": {
    "collapsed": false
   },
   "outputs": [],
   "source": [
    "crowd_data = crowd_data.get_result()"
   ]
  },
  {
   "cell_type": "markdown",
   "metadata": {},
   "source": [
    "We traverse *crowd_data* gathering only the information that will be useful in an organized manner\n",
    "\n",
    "The images are stored in a base64 string, so during the traversal we are also decode those strings back into jpeg images.\n",
    "\n",
    "The result is *gathered_results* array, which is an array of dicts containing the file name and one image per assignment for that filename."
   ]
  },
  {
   "cell_type": "code",
   "execution_count": null,
   "metadata": {
    "collapsed": false
   },
   "outputs": [],
   "source": [
    "import base64\n",
    "from PIL import Image\n",
    "from io import BytesIO\n",
    "\n",
    "def gather_images():\n",
    "    results = []\n",
    "    for i in crowd_data.data['id']:\n",
    "        result_obj = {}\n",
    "        result_obj['file_url'] = crowd_data.data['object'][i]\n",
    "        m = re.search('([0-9]+_[0-9]+_[0-9]+_[0-9]+).[a-zA-Z]+', result_obj['file_url'])\n",
    "        result_obj['file'] = m.group(1)\n",
    "        result_obj['img'] = []\n",
    "        for a in crowd_data.data['result'][i]['assignments']:\n",
    "            im = Image.open(BytesIO(base64.b64decode(a['worker_response'][23:])))\n",
    "            result_obj['img'].append(im)\n",
    "        results.append(result_obj)\n",
    "    return results\n",
    "\n",
    "gathered_results = gather_images()\n",
    "            "
   ]
  },
  {
   "cell_type": "markdown",
   "metadata": {},
   "source": [
    "The stitcher script stitches the images back together and saves them in a local folder"
   ]
  },
  {
   "cell_type": "code",
   "execution_count": null,
   "metadata": {
    "collapsed": false
   },
   "outputs": [],
   "source": [
    "from stitcher import stitch_images_from_object\n",
    "stitch_images_from_object(input_image_path, gathered_results, output_stitched_folder)"
   ]
  },
  {
   "cell_type": "markdown",
   "metadata": {},
   "source": [
    "# Generating full blend result\n",
    "The diferrent versions of the original image are blended, in order to create an average of all stitched images."
   ]
  },
  {
   "cell_type": "code",
   "execution_count": null,
   "metadata": {
    "collapsed": false
   },
   "outputs": [],
   "source": [
    "from blender import blend_images_from_folder\n",
    "blend_images_from_folder(output_stitched_folder, output_blended_image_path)"
   ]
  },
  {
   "cell_type": "markdown",
   "metadata": {},
   "source": [
    "We now need to filter out the users assignments in order to try and enhance the quality of the final piece.\n",
    "\n",
    "# Generating crowd filtered result\n",
    "\n",
    "upload_results gets the gathered_results object, saves the images into a temporary folder and uploads them to our FTP server and adds a new field, called urls, with the URLs to the uploaded images"
   ]
  },
  {
   "cell_type": "code",
   "execution_count": null,
   "metadata": {
    "collapsed": false
   },
   "outputs": [],
   "source": [
    "import os\n",
    "from uploader import upload_images\n",
    "import tempfile\n",
    "import pickle\n",
    "\n",
    "def upload_results(results):\n",
    "    tmp_folder_path = tempfile.mkdtemp()\n",
    "\n",
    "    for region_obj in results:\n",
    "        path_list = []\n",
    "        for i, img in enumerate(region_obj['img']):\n",
    "            \n",
    "            p = os.path.join(tmp_folder_path, region_obj['file'] + '_' + str(i) + '.jpeg')\n",
    "            img.save(p)\n",
    "            path_list.append(p)\n",
    "        region_obj['urls'] = upload_images(path_list, region_obj['file'] + '_assigns')\n",
    "    \n",
    "    return results\n",
    "\n",
    "gathered_results = upload_results(gathered_results)\n",
    "\n",
    "# save results\n",
    "pickle.dump( gathered_results, open( \"gathered_results.p\", \"wb\" ) )"
   ]
  },
  {
   "cell_type": "markdown",
   "metadata": {},
   "source": [
    "### Creating new presenter to sort the assingments\n",
    "The first thing we need in order to remove the worst drawings is to sort them from best to worst.\n",
    "\n",
    "We have modified the quicksort method published on the reprowd Github repo to use a presenter in which the woreker will shown three images: The original image and two user made drawings. The worker will then be asked to choose the best one. We use the workers answers to sort the drawings."
   ]
  },
  {
   "cell_type": "code",
   "execution_count": null,
   "metadata": {
    "collapsed": true
   },
   "outputs": [],
   "source": [
    "import pickle\n",
    "import pprint\n",
    "\n",
    "# if something goes wonky, we can always load the gathered_results object\n",
    "gathered_results = pickle.load( open( \"gathered_results.p\", \"rb\" ) )\n",
    "\n",
    "# print out so that we can check the object out\n",
    "pp = pprint.PrettyPrinter(indent=4)\n",
    "pp.pprint(gathered_results)"
   ]
  },
  {
   "cell_type": "code",
   "execution_count": null,
   "metadata": {
    "collapsed": false
   },
   "outputs": [],
   "source": [
    "# Map function that the quick sort presenter will use\n",
    "def sort_map_func(obj):\n",
    "    return {'url_o':obj[0], 'url_l':obj[1], 'url_r':obj[2]}\n",
    "\n",
    "filter_presenter = BasePresenter()\n",
    "filter_presenter.set_name(project_long_name)\n",
    "filter_presenter.set_short_name(project_short_name)\n",
    "filter_presenter.set_description(project_description)\n",
    "filter_presenter.set_question(presenter_question)\n",
    "\n",
    "# Set the name of the project in the template\n",
    "html_text = None\n",
    "with open('sort_presenter.html', 'rw') as presenter_file:\n",
    "    html_text = presenter_file.read()\n",
    "    html_text = re.sub(\"pybossa\\.userProgress\\(\\'([\\S]+)\\'\\)\",\n",
    "                       \"pybossa.userProgress('\" + project_short_name + \"')\",\n",
    "                       html_text)\n",
    "    html_text = re.sub(\"pybossa\\.run\\(\\'([\\S]+)\\'\\)\",\n",
    "                       \"pybossa.run('\" + project_short_name + \"')\",\n",
    "                       html_text)\n",
    "\n",
    "# Set the template as the presenter\n",
    "filter_presenter.set_template(html_text)\n",
    "\n",
    "from quicksort import quicksort\n",
    "for i, region_obj in enumerate(gathered_results):\n",
    "    # create a copy of the url list\n",
    "    url_list = list(region_obj['urls'])\n",
    "    \n",
    "    # we assume that if the default list is 0 to n, then it has NOT been sorted and we sort it, else skip\n",
    "    sorted_yet = False\n",
    "    for index, url_item in enumerate(url_list):\n",
    "        if url_item[-6] != str(index):\n",
    "            sorted_yet = True\n",
    "            break\n",
    "    if sorted_yet:\n",
    "        continue\n",
    "    \n",
    "    # sort the list of images\n",
    "    quicksort(url_list,\n",
    "             region_obj['file'],\n",
    "             filter_presenter,\n",
    "             sort_map_func,\n",
    "             region_obj['file_url'],\n",
    "             1,\n",
    "             cc)\n",
    "\n",
    "    # rearrange the url and PIL image list inside region_obj\n",
    "    sorted_PIL_list = []\n",
    "    for u in url_list:\n",
    "        i = region_obj['urls'].index(u)\n",
    "        pil_img = region_obj['img'][i]\n",
    "        sorted_PIL_list.append(pil_img)\n",
    "    region_obj['urls'] = url_list\n",
    "    region_obj['img'] = sorted_PIL_list"
   ]
  },
  {
   "cell_type": "markdown",
   "metadata": {},
   "source": [
    "Remove the tail of the img arrays.\n",
    "\n",
    "The size of the tail depends on how aggressive the filter is."
   ]
  },
  {
   "cell_type": "markdown",
   "metadata": {},
   "source": [
    "# Stitch Images\n",
    "\n",
    "Now that all the images are sorted, let's build 5 images from top to worse!"
   ]
  },
  {
   "cell_type": "code",
   "execution_count": null,
   "metadata": {
    "collapsed": false
   },
   "outputs": [],
   "source": [
    "from stitcher import stitch_images_from_sorted_object\n",
    "stitch_images_from_sorted_object(input_image_path, gathered_results, n_assigns, output_stitched_folder)"
   ]
  },
  {
   "cell_type": "markdown",
   "metadata": {},
   "source": [
    "# Blend Images\n",
    "\n",
    "We blend the top 2, 3, 4, and all 5 images "
   ]
  },
  {
   "cell_type": "code",
   "execution_count": 11,
   "metadata": {
    "collapsed": false
   },
   "outputs": [
    {
     "name": "stdout",
     "output_type": "stream",
     "text": [
      "[<PIL.JpegImagePlugin.JpegImageFile image mode=RGB size=512x512 at 0x104CD89D0>, <PIL.JpegImagePlugin.JpegImageFile image mode=RGB size=512x512 at 0x104CD8A10>, <PIL.JpegImagePlugin.JpegImageFile image mode=RGB size=512x512 at 0x104CD84D0>, <PIL.JpegImagePlugin.JpegImageFile image mode=RGB size=512x512 at 0x104CD8F10>, <PIL.JpegImagePlugin.JpegImageFile image mode=RGB size=512x512 at 0x104CD8DD0>]\n",
      "output_path: ../../blended/0_1_2_3_4.jpeg\n",
      "1.0\n",
      "0.5\n",
      "0.333333333333\n",
      "0.25\n",
      "0.2\n"
     ]
    }
   ],
   "source": [
    "import os\n",
    "from PIL import Image\n",
    "from blender import blend_images_from_list\n",
    "\n",
    "# yeah, kind of manual, but done so that we can just loop over a folder instead of having to create different folders\n",
    "file_list = os.listdir(output_stitched_folder)\n",
    "path_list = map(lambda fn: os.path.join(output_stitched_folder, fn), file_list)\n",
    "img_list = map(lambda fp: Image.open(fp, 'r'), path_list)\n",
    "\n",
    "# blend 2, 3, 4, and all 5 images\n",
    "for i in range(2,(n_assigns + 1)):\n",
    "    working_img_list = img_list[:i]\n",
    "    \n",
    "    output_path = os.path.join(output_blended_folder, '_'.join(map(str,range(len(working_img_list))))+'.jpeg')\n",
    "\n",
    "    blend_images_from_list(working_img_list, output_path)"
   ]
  },
  {
   "cell_type": "code",
   "execution_count": null,
   "metadata": {
    "collapsed": false
   },
   "outputs": [],
   "source": [
    "def keep_top(n, l):\n",
    "    return l[:n]\n",
    "\n",
    "for region_obj in gathered_results:\n",
    "    region['urls'] = keep_top()"
   ]
  }
 ],
 "metadata": {
  "kernelspec": {
   "display_name": "Python 2",
   "language": "python",
   "name": "python2"
  },
  "language_info": {
   "codemirror_mode": {
    "name": "ipython",
    "version": 2
   },
   "file_extension": ".py",
   "mimetype": "text/x-python",
   "name": "python",
   "nbconvert_exporter": "python",
   "pygments_lexer": "ipython2",
   "version": "2.7.11"
  }
 },
 "nbformat": 4,
 "nbformat_minor": 0
}
