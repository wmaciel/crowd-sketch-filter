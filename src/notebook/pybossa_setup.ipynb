{
 "cells": [
  {
   "cell_type": "code",
   "execution_count": 1,
   "metadata": {
    "collapsed": false
   },
   "outputs": [],
   "source": [
    "from reprowd.crowdcontext import CrowdContext\n",
    "from reprowd.presenter.base import BasePresenter\n",
    "import sys\n",
    "sys.path.append('..')"
   ]
  },
  {
   "cell_type": "code",
   "execution_count": 2,
   "metadata": {
    "collapsed": true
   },
   "outputs": [],
   "source": [
    "cc = CrowdContext(local_db=\"sketch.db\")"
   ]
  },
  {
   "cell_type": "code",
   "execution_count": 3,
   "metadata": {
    "collapsed": true
   },
   "outputs": [],
   "source": [
    "import os\n",
    "def gen_img_list(folder_path):\n",
    "    img_list = []\n",
    "    file_list = os.listdir(folder_path)\n",
    "    for file_name in file_list:\n",
    "        if file_name.endswith('.bmp'):\n",
    "            img_list.append('\\nhttps://raw.githubusercontent.com/wmaciel/crowd-sketch-filter/master/out_img/' + file_name)\n",
    "    return img_list"
   ]
  },
  {
   "cell_type": "code",
   "execution_count": 4,
   "metadata": {
    "collapsed": false
   },
   "outputs": [],
   "source": [
    "crowd_data = cc.CrowdData(gen_img_list('../../out_img'), 'image_regions')\n",
    "\n",
    "with open('presenter.html') as presenter_file:\n",
    "    my_presenter = BasePresenter()\n",
    "    my_presenter.set_name(\"Crowd_Sketch_Filter\")\n",
    "    my_presenter.set_description(\"This is a description\")\n",
    "    my_presenter.set_question(\"question?\")\n",
    "    my_presenter.set_short_name(\"csf\")\n",
    "    \n",
    "    my_presenter.set_template(presenter_file.read())\n",
    "    crowd_data.set_presenter(my_presenter, lambda obj: {'url_m': obj})"
   ]
  },
  {
   "cell_type": "code",
   "execution_count": 5,
   "metadata": {
    "collapsed": false
   },
   "outputs": [],
   "source": [
    "r = crowd_data.publish_task(n_assignments=1)"
   ]
  },
  {
   "cell_type": "code",
   "execution_count": 6,
   "metadata": {
    "collapsed": false
   },
   "outputs": [],
   "source": [
    "crowd_data = crowd_data.get_result()"
   ]
  },
  {
   "cell_type": "code",
   "execution_count": 7,
   "metadata": {
    "collapsed": false
   },
   "outputs": [
    {
     "data": {
      "text/plain": [
       "[{'file': '0_0_103_103',\n",
       "  'img': [<PIL.JpegImagePlugin.JpegImageFile image mode=RGB size=103x103 at 0x10D2B5490>]},\n",
       " {'file': '0_103_103_206',\n",
       "  'img': [<PIL.JpegImagePlugin.JpegImageFile image mode=RGB size=103x103 at 0x10D2B5910>]},\n",
       " {'file': '0_206_103_308',\n",
       "  'img': [<PIL.JpegImagePlugin.JpegImageFile image mode=RGB size=103x102 at 0x10D2B5950>]},\n",
       " {'file': '0_308_103_410',\n",
       "  'img': [<PIL.JpegImagePlugin.JpegImageFile image mode=RGB size=103x102 at 0x10D2B5990>]},\n",
       " {'file': '0_410_103_512',\n",
       "  'img': [<PIL.JpegImagePlugin.JpegImageFile image mode=RGB size=103x102 at 0x10D2B59D0>]},\n",
       " {'file': '103_0_206_103',\n",
       "  'img': [<PIL.JpegImagePlugin.JpegImageFile image mode=RGB size=103x103 at 0x10D2B5A10>]},\n",
       " {'file': '103_103_206_206',\n",
       "  'img': [<PIL.JpegImagePlugin.JpegImageFile image mode=RGB size=103x103 at 0x10D2B5A50>]},\n",
       " {'file': '103_206_206_308',\n",
       "  'img': [<PIL.JpegImagePlugin.JpegImageFile image mode=RGB size=103x102 at 0x10D2B5A90>]},\n",
       " {'file': '103_308_206_410',\n",
       "  'img': [<PIL.JpegImagePlugin.JpegImageFile image mode=RGB size=103x102 at 0x10D2B5AD0>]},\n",
       " {'file': '103_410_206_512',\n",
       "  'img': [<PIL.JpegImagePlugin.JpegImageFile image mode=RGB size=103x102 at 0x10D2B5B10>]},\n",
       " {'file': '206_0_308_103',\n",
       "  'img': [<PIL.JpegImagePlugin.JpegImageFile image mode=RGB size=102x103 at 0x10D2B5B50>]},\n",
       " {'file': '206_103_308_206',\n",
       "  'img': [<PIL.JpegImagePlugin.JpegImageFile image mode=RGB size=102x103 at 0x10D2B5B90>]},\n",
       " {'file': '206_206_308_308',\n",
       "  'img': [<PIL.JpegImagePlugin.JpegImageFile image mode=RGB size=102x102 at 0x10D2B5BD0>]},\n",
       " {'file': '206_308_308_410',\n",
       "  'img': [<PIL.JpegImagePlugin.JpegImageFile image mode=RGB size=102x102 at 0x10D2B5C10>]},\n",
       " {'file': '206_410_308_512',\n",
       "  'img': [<PIL.JpegImagePlugin.JpegImageFile image mode=RGB size=102x102 at 0x10D2B5C50>]},\n",
       " {'file': '308_0_410_103',\n",
       "  'img': [<PIL.JpegImagePlugin.JpegImageFile image mode=RGB size=102x103 at 0x10D2B5C90>]},\n",
       " {'file': '308_103_410_206',\n",
       "  'img': [<PIL.JpegImagePlugin.JpegImageFile image mode=RGB size=102x103 at 0x10D2B5CD0>]},\n",
       " {'file': '308_206_410_308',\n",
       "  'img': [<PIL.JpegImagePlugin.JpegImageFile image mode=RGB size=102x102 at 0x10D2B5D10>]},\n",
       " {'file': '308_308_410_410',\n",
       "  'img': [<PIL.JpegImagePlugin.JpegImageFile image mode=RGB size=102x102 at 0x10D2B5D50>]},\n",
       " {'file': '308_410_410_512',\n",
       "  'img': [<PIL.JpegImagePlugin.JpegImageFile image mode=RGB size=102x102 at 0x10D2B5D90>]},\n",
       " {'file': '410_0_512_103',\n",
       "  'img': [<PIL.JpegImagePlugin.JpegImageFile image mode=RGB size=102x103 at 0x10D2B5DD0>]},\n",
       " {'file': '410_103_512_206',\n",
       "  'img': [<PIL.JpegImagePlugin.JpegImageFile image mode=RGB size=102x103 at 0x10D2B5E10>]},\n",
       " {'file': '410_206_512_308',\n",
       "  'img': [<PIL.JpegImagePlugin.JpegImageFile image mode=RGB size=102x102 at 0x10D2B5E50>]},\n",
       " {'file': '410_308_512_410',\n",
       "  'img': [<PIL.JpegImagePlugin.JpegImageFile image mode=RGB size=102x102 at 0x10D2B5E90>]},\n",
       " {'file': '410_410_512_512',\n",
       "  'img': [<PIL.JpegImagePlugin.JpegImageFile image mode=RGB size=102x102 at 0x10D2B5ED0>]}]"
      ]
     },
     "execution_count": 7,
     "metadata": {},
     "output_type": "execute_result"
    }
   ],
   "source": [
    "import base64\n",
    "from PIL import Image\n",
    "from io import BytesIO\n",
    "import re\n",
    "\n",
    "def gather_images():\n",
    "    results = []\n",
    "    for i in crowd_data.data['id']:\n",
    "        result_obj = {}\n",
    "        m = re.search('([0-9]+_[0-9]+_[0-9]+_[0-9]+).[a-zA-Z]+', crowd_data.data['object'][i])\n",
    "        result_obj['file'] = m.group(1)\n",
    "        result_obj['img'] = []\n",
    "        for a in crowd_data.data['result'][i]['assignments']:\n",
    "            im = Image.open(BytesIO(base64.b64decode(a['worker_response'][23:])))\n",
    "            result_obj['img'].append(im)\n",
    "        results.append(result_obj)\n",
    "    return results\n",
    "\n",
    "gathered_results = gather_images()\n",
    "\n",
    "gathered_results\n",
    "            "
   ]
  },
  {
   "cell_type": "code",
   "execution_count": 8,
   "metadata": {
    "collapsed": false
   },
   "outputs": [],
   "source": [
    "from stitcher import stitch_images_from_object\n",
    "\n",
    "\n",
    "\n",
    "stitch_images_from_object('../../img/lena.bmp', gathered_results, '../../out_img/')"
   ]
  },
  {
   "cell_type": "code",
   "execution_count": null,
   "metadata": {
    "collapsed": true
   },
   "outputs": [],
   "source": []
  }
 ],
 "metadata": {
  "kernelspec": {
   "display_name": "Python 2",
   "language": "python",
   "name": "python2"
  },
  "language_info": {
   "codemirror_mode": {
    "name": "ipython",
    "version": 2
   },
   "file_extension": ".py",
   "mimetype": "text/x-python",
   "name": "python",
   "nbconvert_exporter": "python",
   "pygments_lexer": "ipython2",
   "version": "2.7.11"
  }
 },
 "nbformat": 4,
 "nbformat_minor": 0
}
